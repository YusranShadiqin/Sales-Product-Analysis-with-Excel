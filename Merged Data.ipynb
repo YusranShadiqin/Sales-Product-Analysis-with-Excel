{
 "cells": [
  {
   "cell_type": "code",
   "execution_count": 1,
   "id": "57c41f43",
   "metadata": {},
   "outputs": [],
   "source": [
    "import os\n",
    "import pandas as pd"
   ]
  },
  {
   "cell_type": "code",
   "execution_count": 2,
   "id": "263ec8d3",
   "metadata": {},
   "outputs": [],
   "source": [
    "data_file = '.\\Data'"
   ]
  },
  {
   "cell_type": "code",
   "execution_count": 3,
   "id": "e29ed8e7",
   "metadata": {},
   "outputs": [],
   "source": [
    "df = []"
   ]
  },
  {
   "cell_type": "code",
   "execution_count": 5,
   "id": "3294ad10",
   "metadata": {},
   "outputs": [
    {
     "name": "stdout",
     "output_type": "stream",
     "text": [
      "loading file Sales_April_2019.csv....\n",
      "loading file Sales_August_2019.csv....\n",
      "loading file Sales_December_2019.csv....\n",
      "loading file Sales_February_2019.csv....\n",
      "loading file Sales_January_2019.csv....\n",
      "loading file Sales_July_2019.csv....\n",
      "loading file Sales_June_2019.csv....\n",
      "loading file Sales_March_2019.csv....\n",
      "loading file Sales_May_2019.csv....\n",
      "loading file Sales_November_2019.csv....\n",
      "loading file Sales_October_2019.csv....\n",
      "loading file Sales_September_2019.csv....\n"
     ]
    }
   ],
   "source": [
    "for file in os.listdir(data_file):\n",
    "    if file.endswith('.csv'):\n",
    "        print(\"loading file {0}....\".format(file))\n",
    "        df.append(pd.read_csv(os.path.join(data_file, file)))\n"
   ]
  },
  {
   "cell_type": "code",
   "execution_count": 6,
   "id": "c8d3bd1c",
   "metadata": {},
   "outputs": [
    {
     "data": {
      "text/plain": [
       "[      Order ID                     Product Quantity Ordered Price Each  \\\n",
       " 0       176558        USB-C Charging Cable                2      11.95   \n",
       " 1          NaN                         NaN              NaN        NaN   \n",
       " 2       176559  Bose SoundSport Headphones                1      99.99   \n",
       " 3       176560                Google Phone                1        600   \n",
       " 4       176560            Wired Headphones                1      11.99   \n",
       " ...        ...                         ...              ...        ...   \n",
       " 18378   194090                Google Phone                1        600   \n",
       " 18379   194091       AA Batteries (4-pack)                1       3.84   \n",
       " 18380   194092      AAA Batteries (4-pack)                2       2.99   \n",
       " 18381   194093       AA Batteries (4-pack)                1       3.84   \n",
       " 18382   194094    Lightning Charging Cable                1      14.95   \n",
       " \n",
       "            Order Date                        Purchase Address  \n",
       " 0      04/19/19 08:46            917 1st St, Dallas, TX 75001  \n",
       " 1                 NaN                                     NaN  \n",
       " 2      04/07/19 22:30       682 Chestnut St, Boston, MA 02215  \n",
       " 3      04/12/19 14:38    669 Spruce St, Los Angeles, CA 90001  \n",
       " 4      04/12/19 14:38    669 Spruce St, Los Angeles, CA 90001  \n",
       " ...               ...                                     ...  \n",
       " 18378  04/08/19 17:11   177 Jackson St, Los Angeles, CA 90001  \n",
       " 18379  04/15/19 16:02         311 Forest St, Austin, TX 73301  \n",
       " 18380  04/28/19 14:36  347 Sunset St, San Francisco, CA 94016  \n",
       " 18381  04/14/19 15:09         835 Lake St, Portland, OR 97035  \n",
       " 18382  04/18/19 11:08          354 North St, Boston, MA 02215  \n",
       " \n",
       " [18383 rows x 6 columns],\n",
       "       Order ID                     Product Quantity Ordered Price Each  \\\n",
       " 0       236670            Wired Headphones                2      11.99   \n",
       " 1       236671  Bose SoundSport Headphones                1      99.99   \n",
       " 2       236672                      iPhone                1      700.0   \n",
       " 3       236673       AA Batteries (4-pack)                2       3.84   \n",
       " 4       236674       AA Batteries (4-pack)                2       3.84   \n",
       " ...        ...                         ...              ...        ...   \n",
       " 12006   248146  Bose SoundSport Headphones                1      99.99   \n",
       " 12007   248147      AAA Batteries (4-pack)                3       2.99   \n",
       " 12008   248148       AA Batteries (4-pack)                1       3.84   \n",
       " 12009   248149        USB-C Charging Cable                1      11.95   \n",
       " 12010   248150       AA Batteries (4-pack)                1       3.84   \n",
       " \n",
       "            Order Date                         Purchase Address  \n",
       " 0      08/31/19 22:21         359 Spruce St, Seattle, WA 98101  \n",
       " 1      08/15/19 15:11           492 Ridge St, Dallas, TX 75001  \n",
       " 2      08/06/19 14:40           149 7th St, Portland, OR 97035  \n",
       " 3      08/29/19 20:59        631 2nd St, Los Angeles, CA 90001  \n",
       " 4      08/15/19 19:53     736 14th St, New York City, NY 10001  \n",
       " ...               ...                                      ...  \n",
       " 12006  08/29/19 22:19  868 Hickory St, San Francisco, CA 94016  \n",
       " 12007  08/31/19 16:26        206 Lakeview St, Boston, MA 02215  \n",
       " 12008  08/02/19 07:25           568 13th St, Seattle, WA 98101  \n",
       " 12009  08/08/19 12:10   495 Walnut St, San Francisco, CA 94016  \n",
       " 12010  08/16/19 08:13       738 Park St, Los Angeles, CA 90001  \n",
       " \n",
       " [12011 rows x 6 columns],\n",
       "       Order ID                     Product Quantity Ordered Price Each  \\\n",
       " 0       295665          Macbook Pro Laptop                1       1700   \n",
       " 1       295666          LG Washing Machine                1      600.0   \n",
       " 2       295667        USB-C Charging Cable                1      11.95   \n",
       " 3       295668            27in FHD Monitor                1     149.99   \n",
       " 4       295669        USB-C Charging Cable                1      11.95   \n",
       " ...        ...                         ...              ...        ...   \n",
       " 25112   319666    Lightning Charging Cable                1      14.95   \n",
       " 25113   319667       AA Batteries (4-pack)                2       3.84   \n",
       " 25114   319668             Vareebadd Phone                1        400   \n",
       " 25115   319669            Wired Headphones                1      11.99   \n",
       " 25116   319670  Bose SoundSport Headphones                1      99.99   \n",
       " \n",
       "            Order Date                        Purchase Address  \n",
       " 0      12/30/19 00:01  136 Church St, New York City, NY 10001  \n",
       " 1      12/29/19 07:03     562 2nd St, New York City, NY 10001  \n",
       " 2      12/12/19 18:21    277 Main St, New York City, NY 10001  \n",
       " 3      12/22/19 15:13     410 6th St, San Francisco, CA 94016  \n",
       " 4      12/18/19 12:38           43 Hill St, Atlanta, GA 30301  \n",
       " ...               ...                                     ...  \n",
       " 25112  12/11/19 20:58  14 Madison St, San Francisco, CA 94016  \n",
       " 25113  12/01/19 12:01    549 Willow St, Los Angeles, CA 90001  \n",
       " 25114  12/09/19 06:43        273 Wilson St, Seattle, WA 98101  \n",
       " 25115  12/03/19 10:39          778 River St, Dallas, TX 75001  \n",
       " 25116  12/21/19 21:45  747 Chestnut St, Los Angeles, CA 90001  \n",
       " \n",
       " [25117 rows x 6 columns],\n",
       "       Order ID                   Product Quantity Ordered Price Each  \\\n",
       " 0       150502                    iPhone                1        700   \n",
       " 1       150503     AA Batteries (4-pack)                1       3.84   \n",
       " 2       150504    27in 4K Gaming Monitor                1     389.99   \n",
       " 3       150505  Lightning Charging Cable                1      14.95   \n",
       " 4       150506     AA Batteries (4-pack)                2       3.84   \n",
       " ...        ...                       ...              ...        ...   \n",
       " 12031   162004  Apple Airpods Headphones                1        150   \n",
       " 12032   162005    AAA Batteries (4-pack)                2       2.99   \n",
       " 12033   162006      USB-C Charging Cable                1      11.95   \n",
       " 12034   162007      USB-C Charging Cable                1      11.95   \n",
       " 12035   162008          27in FHD Monitor                1     149.99   \n",
       " \n",
       "            Order Date                         Purchase Address  \n",
       " 0      02/18/19 01:35        866 Spruce St, Portland, ME 04101  \n",
       " 1      02/13/19 07:24      18 13th St, San Francisco, CA 94016  \n",
       " 2      02/18/19 09:46       52 6th St, New York City, NY 10001  \n",
       " 3      02/02/19 16:47         129 Cherry St, Atlanta, GA 30301  \n",
       " 4      02/28/19 20:32        548 Lincoln St, Seattle, WA 98101  \n",
       " ...               ...                                      ...  \n",
       " 12031  02/12/19 22:02   227 Church St, San Francisco, CA 94016  \n",
       " 12032  02/04/19 20:44  417 Jefferson St, Los Angeles, CA 90001  \n",
       " 12033  02/24/19 06:31            498 8th St, Atlanta, GA 30301  \n",
       " 12034  02/24/19 19:09             715 7th St, Dallas, TX 75001  \n",
       " 12035  02/26/19 17:15       677 West St, Los Angeles, CA 90001  \n",
       " \n",
       " [12036 rows x 6 columns],\n",
       "      Order ID                   Product Quantity Ordered Price Each  \\\n",
       " 0      141234                    iPhone                1        700   \n",
       " 1      141235  Lightning Charging Cable                1      14.95   \n",
       " 2      141236          Wired Headphones                2      11.99   \n",
       " 3      141237          27in FHD Monitor                1     149.99   \n",
       " 4      141238          Wired Headphones                1      11.99   \n",
       " ...       ...                       ...              ...        ...   \n",
       " 9718   150497              20in Monitor                1     109.99   \n",
       " 9719   150498          27in FHD Monitor                1     149.99   \n",
       " 9720   150499           ThinkPad Laptop                1     999.99   \n",
       " 9721   150500    AAA Batteries (4-pack)                2       2.99   \n",
       " 9722   150501              Google Phone                1        600   \n",
       " \n",
       "           Order Date                       Purchase Address  \n",
       " 0     01/22/19 21:25        944 Walnut St, Boston, MA 02215  \n",
       " 1     01/28/19 14:15       185 Maple St, Portland, OR 97035  \n",
       " 2     01/17/19 13:33  538 Adams St, San Francisco, CA 94016  \n",
       " 3     01/05/19 20:33     738 10th St, Los Angeles, CA 90001  \n",
       " 4     01/25/19 11:59          387 10th St, Austin, TX 73301  \n",
       " ...              ...                                    ...  \n",
       " 9718  01/26/19 19:09            95 8th St, Dallas, TX 75001  \n",
       " 9719  01/10/19 22:58    403 7th St, San Francisco, CA 94016  \n",
       " 9720  01/21/19 14:31        214 Main St, Portland, OR 97035  \n",
       " 9721  01/15/19 14:21      810 2nd St, Los Angeles, CA 90001  \n",
       " 9722  01/13/19 16:43         428 Cedar St, Boston, MA 02215  \n",
       " \n",
       " [9723 rows x 6 columns],\n",
       "       Order ID                   Product Quantity Ordered Price Each  \\\n",
       " 0       222910  Apple Airpods Headphones                1        150   \n",
       " 1       222911             Flatscreen TV                1        300   \n",
       " 2       222912     AA Batteries (4-pack)                1       3.84   \n",
       " 3       222913     AA Batteries (4-pack)                1       3.84   \n",
       " 4       222914    AAA Batteries (4-pack)                5       2.99   \n",
       " ...        ...                       ...              ...        ...   \n",
       " 14366   236665          Wired Headphones                1      11.99   \n",
       " 14367   236666              20in Monitor                1     109.99   \n",
       " 14368   236667    AAA Batteries (4-pack)                1       2.99   \n",
       " 14369   236668          Wired Headphones                1      11.99   \n",
       " 14370   236669    AAA Batteries (4-pack)                1       2.99   \n",
       " \n",
       "            Order Date                      Purchase Address  \n",
       " 0      07/26/19 16:51       389 South St, Atlanta, GA 30301  \n",
       " 1      07/05/19 08:55         590 4th St, Seattle, WA 98101  \n",
       " 2      07/29/19 12:41        861 Hill St, Atlanta, GA 30301  \n",
       " 3      07/28/19 10:15       190 Ridge St, Atlanta, GA 30301  \n",
       " 4      07/31/19 02:13      824 Forest St, Seattle, WA 98101  \n",
       " ...               ...                                   ...  \n",
       " 14366  07/20/19 16:16      694 Meadow St, Atlanta, GA 30301  \n",
       " 14367  07/31/19 20:11  866 14th St, San Francisco, CA 94016  \n",
       " 14368  07/17/19 22:29       249 Cherry St, Dallas, TX 75001  \n",
       " 14369  07/30/19 19:28       727 Wilson St, Austin, TX 73301  \n",
       " 14370  07/10/19 01:50   743 9th St, New York City, NY 10001  \n",
       " \n",
       " [14371 rows x 6 columns],\n",
       "       Order ID                     Product Quantity Ordered Price Each  \\\n",
       " 0       209921        USB-C Charging Cable                1      11.95   \n",
       " 1       209922          Macbook Pro Laptop                1     1700.0   \n",
       " 2       209923             ThinkPad Laptop                1     999.99   \n",
       " 3       209924            27in FHD Monitor                1     149.99   \n",
       " 4       209925  Bose SoundSport Headphones                1      99.99   \n",
       " ...        ...                         ...              ...        ...   \n",
       " 13617   222905      AAA Batteries (4-pack)                1       2.99   \n",
       " 13618   222906            27in FHD Monitor                1     149.99   \n",
       " 13619   222907        USB-C Charging Cable                1      11.95   \n",
       " 13620   222908        USB-C Charging Cable                1      11.95   \n",
       " 13621   222909      AAA Batteries (4-pack)                1       2.99   \n",
       " \n",
       "            Order Date                       Purchase Address  \n",
       " 0      06/23/19 19:34      950 Walnut St, Portland, ME 04101  \n",
       " 1      06/30/19 10:05     80 4th St, San Francisco, CA 94016  \n",
       " 2      06/24/19 20:18  402 Jackson St, Los Angeles, CA 90001  \n",
       " 3      06/05/19 10:21         560 10th St, Seattle, WA 98101  \n",
       " 4      06/25/19 18:58    545 2nd St, San Francisco, CA 94016  \n",
       " ...               ...                                    ...  \n",
       " 13617  06/07/19 19:02          795 Pine St, Boston, MA 02215  \n",
       " 13618  06/01/19 19:29  495 North St, New York City, NY 10001  \n",
       " 13619  06/22/19 18:57  319 Ridge St, San Francisco, CA 94016  \n",
       " 13620  06/26/19 18:35   916 Main St, San Francisco, CA 94016  \n",
       " 13621  06/25/19 14:33         209 11th St, Atlanta, GA 30301  \n",
       " \n",
       " [13622 rows x 6 columns],\n",
       "       Order ID                     Product Quantity Ordered Price Each  \\\n",
       " 0       162009                      iPhone                1        700   \n",
       " 1       162009    Lightning Charging Cable                1      14.95   \n",
       " 2       162009            Wired Headphones                2      11.99   \n",
       " 3       162010  Bose SoundSport Headphones                1      99.99   \n",
       " 4       162011      34in Ultrawide Monitor                1     379.99   \n",
       " ...        ...                         ...              ...        ...   \n",
       " 15221   176554    Lightning Charging Cable                1      14.95   \n",
       " 15222   176555            27in FHD Monitor                1     149.99   \n",
       " 15223   176556      AAA Batteries (4-pack)                3       2.99   \n",
       " 15224   176557                      iPhone                1        700   \n",
       " 15225   176557    Lightning Charging Cable                1      14.95   \n",
       " \n",
       "            Order Date                           Purchase Address  \n",
       " 0      03/28/19 20:59            942 Church St, Austin, TX 73301  \n",
       " 1      03/28/19 20:59            942 Church St, Austin, TX 73301  \n",
       " 2      03/28/19 20:59            942 Church St, Austin, TX 73301  \n",
       " 3      03/17/19 05:39       261 10th St, San Francisco, CA 94016  \n",
       " 4      03/10/19 00:01       764 13th St, San Francisco, CA 94016  \n",
       " ...               ...                                        ...  \n",
       " 15221  03/24/19 11:14       672 12th St, San Francisco, CA 94016  \n",
       " 15222  03/22/19 20:27         42 4th St, San Francisco, CA 94016  \n",
       " 15223  03/14/19 10:29          871 7th St, Los Angeles, CA 90001  \n",
       " 15224  03/30/19 12:32  83 Washington St, San Francisco, CA 94016  \n",
       " 15225  03/30/19 12:32  83 Washington St, San Francisco, CA 94016  \n",
       " \n",
       " [15226 rows x 6 columns],\n",
       "       Order ID                     Product Quantity Ordered Price Each  \\\n",
       " 0       194095            Wired Headphones                1      11.99   \n",
       " 1       194096       AA Batteries (4-pack)                1       3.84   \n",
       " 2       194097            27in FHD Monitor                1     149.99   \n",
       " 3       194098            Wired Headphones                1      11.99   \n",
       " 4       194099      AAA Batteries (4-pack)                2       2.99   \n",
       " ...        ...                         ...              ...        ...   \n",
       " 16630   209916  Bose SoundSport Headphones                1      99.99   \n",
       " 16631   209917            Wired Headphones                1      11.99   \n",
       " 16632   209918      AAA Batteries (4-pack)                2       2.99   \n",
       " 16633   209919        USB-C Charging Cable                1      11.95   \n",
       " 16634   209920             ThinkPad Laptop                1     999.99   \n",
       " \n",
       "            Order Date                         Purchase Address  \n",
       " 0      05/16/19 17:14      669 2nd St, New York City, NY 10001  \n",
       " 1      05/19/19 14:43          844 Walnut St, Dallas, TX 75001  \n",
       " 2      05/24/19 11:36  164 Madison St, New York City, NY 10001  \n",
       " 3      05/02/19 20:40          622 Meadow St, Dallas, TX 75001  \n",
       " 4      05/11/19 22:55          17 Church St, Seattle, WA 98101  \n",
       " ...               ...                                      ...  \n",
       " 16630  05/08/19 19:15         235 Center St, Seattle, WA 98101  \n",
       " 16631  05/24/19 22:02      926 9th St, San Francisco, CA 94016  \n",
       " 16632  05/24/19 17:44         868 Hickory St, Boston, MA 02215  \n",
       " 16633  05/04/19 12:46          204 Adams St, Seattle, WA 98101  \n",
       " 16634  05/18/19 23:07             43 5th St, Atlanta, GA 30301  \n",
       " \n",
       " [16635 rows x 6 columns],\n",
       "       Order ID                     Product Quantity Ordered Price Each  \\\n",
       " 0       278797            Wired Headphones                1      11.99   \n",
       " 1       278798        USB-C Charging Cable                2      11.95   \n",
       " 2       278799    Apple Airpods Headphones                1      150.0   \n",
       " 3       278800            27in FHD Monitor                1     149.99   \n",
       " 4       278801  Bose SoundSport Headphones                1      99.99   \n",
       " ...        ...                         ...              ...        ...   \n",
       " 17656   295660      AAA Batteries (4-pack)                2       2.99   \n",
       " 17657   295661        USB-C Charging Cable                1      11.95   \n",
       " 17658   295662    Lightning Charging Cable                1      14.95   \n",
       " 17659   295663      AAA Batteries (4-pack)                1       2.99   \n",
       " 17660   295664                Google Phone                1        600   \n",
       " \n",
       "            Order Date                      Purchase Address  \n",
       " 0      11/21/19 09:54   46 Park St, New York City, NY 10001  \n",
       " 1      11/17/19 10:03      962 Hickory St, Austin, TX 73301  \n",
       " 2      11/19/19 14:56  464 Cherry St, Los Angeles, CA 90001  \n",
       " 3      11/25/19 22:24        649 10th St, Seattle, WA 98101  \n",
       " 4      11/09/19 13:56         522 Hill St, Boston, MA 02215  \n",
       " ...               ...                                   ...  \n",
       " 17656  11/04/19 14:17     574 4th St, Los Angeles, CA 90001  \n",
       " 17657  11/23/19 07:22          359 1st St, Austin, TX 73301  \n",
       " 17658  11/13/19 16:12         900 10th St, Boston, MA 02215  \n",
       " 17659  11/17/19 17:08       592 Sunset St, Boston, MA 02215  \n",
       " 17660  11/17/19 16:13      428 Jackson St, Boston, MA 02215  \n",
       " \n",
       " [17661 rows x 6 columns],\n",
       "       Order ID                 Product Quantity Ordered Price Each  \\\n",
       " 0       259358  34in Ultrawide Monitor                1     379.99   \n",
       " 1       259359  27in 4K Gaming Monitor                1     389.99   \n",
       " 2       259360  AAA Batteries (4-pack)                2       2.99   \n",
       " 3       259361        27in FHD Monitor                1     149.99   \n",
       " 4       259362        Wired Headphones                1      11.99   \n",
       " ...        ...                     ...              ...        ...   \n",
       " 20374   278792   AA Batteries (4-pack)                1       3.84   \n",
       " 20375   278793        Wired Headphones                1      11.99   \n",
       " 20376   278794   AA Batteries (4-pack)                1       3.84   \n",
       " 20377   278795                  iPhone                1        700   \n",
       " 20378   278796        Wired Headphones                1      11.99   \n",
       " \n",
       "            Order Date                           Purchase Address  \n",
       " 0      10/28/19 10:56            609 Cherry St, Dallas, TX 75001  \n",
       " 1      10/28/19 17:26          225 5th St, Los Angeles, CA 90001  \n",
       " 2      10/24/19 17:20       967 12th St, New York City, NY 10001  \n",
       " 3      10/14/19 22:26  628 Jefferson St, New York City, NY 10001  \n",
       " 4      10/07/19 16:10         534 14th St, Los Angeles, CA 90001  \n",
       " ...               ...                                        ...  \n",
       " 20374  10/12/19 04:32      920 Adams St, San Francisco, CA 94016  \n",
       " 20375  10/28/19 22:00     161 Chestnut St, Los Angeles, CA 90001  \n",
       " 20376  10/09/19 20:58     346 Spruce St, San Francisco, CA 94016  \n",
       " 20377  10/31/19 17:21             291 Hill St, Seattle, WA 98101  \n",
       " 20378  10/13/19 11:20    547 Jefferson St, Los Angeles, CA 90001  \n",
       " \n",
       " [20379 rows x 6 columns],\n",
       "       Order ID                 Product Quantity Ordered Price Each  \\\n",
       " 0       248151   AA Batteries (4-pack)                4       3.84   \n",
       " 1       248152    USB-C Charging Cable                2      11.95   \n",
       " 2       248153    USB-C Charging Cable                1      11.95   \n",
       " 3       248154        27in FHD Monitor                1     149.99   \n",
       " 4       248155    USB-C Charging Cable                1      11.95   \n",
       " ...        ...                     ...              ...        ...   \n",
       " 11681   259353  AAA Batteries (4-pack)                3       2.99   \n",
       " 11682   259354                  iPhone                1        700   \n",
       " 11683   259355                  iPhone                1        700   \n",
       " 11684   259356  34in Ultrawide Monitor                1     379.99   \n",
       " 11685   259357    USB-C Charging Cable                1      11.95   \n",
       " \n",
       "            Order Date                         Purchase Address  \n",
       " 0      09/17/19 14:44      380 North St, Los Angeles, CA 90001  \n",
       " 1      09/29/19 10:19             511 8th St, Austin, TX 73301  \n",
       " 2      09/16/19 17:48    151 Johnson St, Los Angeles, CA 90001  \n",
       " 3      09/27/19 07:52        355 Hickory St, Seattle, WA 98101  \n",
       " 4      09/01/19 19:03            125 5th St, Atlanta, GA 30301  \n",
       " ...               ...                                      ...  \n",
       " 11681  09/17/19 20:56   840 Highland St, Los Angeles, CA 90001  \n",
       " 11682  09/01/19 16:00  216 Dogwood St, San Francisco, CA 94016  \n",
       " 11683  09/23/19 07:39     220 12th St, San Francisco, CA 94016  \n",
       " 11684  09/19/19 17:30   511 Forest St, San Francisco, CA 94016  \n",
       " 11685  09/30/19 00:18   250 Meadow St, San Francisco, CA 94016  \n",
       " \n",
       " [11686 rows x 6 columns]]"
      ]
     },
     "execution_count": 6,
     "metadata": {},
     "output_type": "execute_result"
    }
   ],
   "source": [
    "df"
   ]
  },
  {
   "cell_type": "code",
   "execution_count": 7,
   "id": "b3461d68",
   "metadata": {},
   "outputs": [
    {
     "data": {
      "text/plain": [
       "12"
      ]
     },
     "execution_count": 7,
     "metadata": {},
     "output_type": "execute_result"
    }
   ],
   "source": [
    "len(df)"
   ]
  },
  {
   "cell_type": "code",
   "execution_count": 8,
   "id": "1060f1e6",
   "metadata": {},
   "outputs": [],
   "source": [
    "New_data = pd.concat(df, axis = 0)"
   ]
  },
  {
   "cell_type": "code",
   "execution_count": 9,
   "id": "b2606b1a",
   "metadata": {},
   "outputs": [],
   "source": [
    "New_data.to_excel(\"New Data.xlsx\", index = False)"
   ]
  },
  {
   "cell_type": "code",
   "execution_count": 45,
   "id": "16a617c7",
   "metadata": {},
   "outputs": [],
   "source": [
    "data = pd.read_excel(\"New Data.xlsx\")"
   ]
  },
  {
   "cell_type": "code",
   "execution_count": 46,
   "id": "9c414a68",
   "metadata": {},
   "outputs": [
    {
     "name": "stdout",
     "output_type": "stream",
     "text": [
      "<class 'pandas.core.frame.DataFrame'>\n",
      "RangeIndex: 186849 entries, 0 to 186848\n",
      "Data columns (total 6 columns):\n",
      " #   Column            Non-Null Count   Dtype \n",
      "---  ------            --------------   ----- \n",
      " 0   Order ID          186305 non-null  object\n",
      " 1   Product           186305 non-null  object\n",
      " 2   Quantity Ordered  186305 non-null  object\n",
      " 3   Price Each        186305 non-null  object\n",
      " 4   Order Date        186305 non-null  object\n",
      " 5   Purchase Address  186305 non-null  object\n",
      "dtypes: object(6)\n",
      "memory usage: 8.6+ MB\n"
     ]
    }
   ],
   "source": [
    "data.info()"
   ]
  },
  {
   "cell_type": "code",
   "execution_count": 47,
   "id": "00bc1978",
   "metadata": {},
   "outputs": [],
   "source": [
    "data.dropna(inplace = True)"
   ]
  },
  {
   "cell_type": "code",
   "execution_count": 48,
   "id": "a73dcfab",
   "metadata": {},
   "outputs": [
    {
     "data": {
      "text/plain": [
       "Order ID            0\n",
       "Product             0\n",
       "Quantity Ordered    0\n",
       "Price Each          0\n",
       "Order Date          0\n",
       "Purchase Address    0\n",
       "dtype: int64"
      ]
     },
     "execution_count": 48,
     "metadata": {},
     "output_type": "execute_result"
    }
   ],
   "source": [
    "data.isnull().sum()"
   ]
  },
  {
   "cell_type": "code",
   "execution_count": 50,
   "id": "80d8efca",
   "metadata": {},
   "outputs": [
    {
     "name": "stdout",
     "output_type": "stream",
     "text": [
      " \n",
      "Unique Value :  Order ID is  ['176558' '176559' '176560' ... '259355' '259356' '259357']\n",
      " \n",
      "Unique Value :  Product is  ['USB-C Charging Cable' 'Bose SoundSport Headphones' 'Google Phone'\n",
      " 'Wired Headphones' 'Macbook Pro Laptop' 'Lightning Charging Cable'\n",
      " '27in 4K Gaming Monitor' 'AA Batteries (4-pack)'\n",
      " 'Apple Airpods Headphones' 'AAA Batteries (4-pack)' 'iPhone'\n",
      " 'Flatscreen TV' '27in FHD Monitor' '20in Monitor' 'LG Dryer'\n",
      " 'ThinkPad Laptop' 'Vareebadd Phone' 'LG Washing Machine'\n",
      " '34in Ultrawide Monitor' 'Product']\n",
      " \n",
      "Unique Value :  Quantity Ordered is  [2 '1' '2' '3' '5' 'Quantity Ordered' '4' '7' '6' '8' '9']\n",
      " \n",
      "Unique Value :  Price Each is  ['11.95' '99.99' '600' '11.99' '1700' '14.95' '389.99' '3.84' '150' '2.99'\n",
      " '700' '300' '149.99' '109.99' '600.0' '999.99' '400' '379.99'\n",
      " 'Price Each' '700.0' '1700.0' '150.0' '300.0' '400.0']\n",
      " \n",
      "Unique Value :  Order Date is  ['04/19/19 08:46' '04/07/19 22:30' '04/12/19 14:38' ... '09/23/19 07:39'\n",
      " '09/19/19 17:30' '09/30/19 00:18']\n",
      " \n",
      "Unique Value :  Purchase Address is  ['917 1st St, Dallas, TX 75001' '682 Chestnut St, Boston, MA 02215'\n",
      " '669 Spruce St, Los Angeles, CA 90001' ...\n",
      " '981 4th St, New York City, NY 10001'\n",
      " '840 Highland St, Los Angeles, CA 90001'\n",
      " '220 12th St, San Francisco, CA 94016']\n"
     ]
    }
   ],
   "source": [
    "for column in data.columns:\n",
    "    print(\" \")\n",
    "    print('Unique Value : ', column, \"is \", data[column].unique())"
   ]
  },
  {
   "cell_type": "code",
   "execution_count": 51,
   "id": "05f2cbc8",
   "metadata": {},
   "outputs": [],
   "source": [
    "data = data[data[\"Order ID\"].str.contains(\"Order ID\") == False]"
   ]
  },
  {
   "cell_type": "code",
   "execution_count": 54,
   "id": "b9ef526d",
   "metadata": {},
   "outputs": [],
   "source": [
    "data['Order ID'] = pd.to_numeric(data[\"Order ID\"])"
   ]
  },
  {
   "cell_type": "code",
   "execution_count": 60,
   "id": "c600df66",
   "metadata": {},
   "outputs": [],
   "source": [
    "data.drop(columns = \"Order iD\", inplace = True)"
   ]
  },
  {
   "cell_type": "code",
   "execution_count": 61,
   "id": "3d952002",
   "metadata": {},
   "outputs": [
    {
     "name": "stdout",
     "output_type": "stream",
     "text": [
      "<class 'pandas.core.frame.DataFrame'>\n",
      "Int64Index: 185950 entries, 0 to 186848\n",
      "Data columns (total 6 columns):\n",
      " #   Column            Non-Null Count   Dtype \n",
      "---  ------            --------------   ----- \n",
      " 0   Order ID          185950 non-null  int64 \n",
      " 1   Product           185950 non-null  object\n",
      " 2   Quantity Ordered  185950 non-null  object\n",
      " 3   Price Each        185950 non-null  object\n",
      " 4   Order Date        185950 non-null  object\n",
      " 5   Purchase Address  185950 non-null  object\n",
      "dtypes: int64(1), object(5)\n",
      "memory usage: 14.0+ MB\n"
     ]
    }
   ],
   "source": [
    "data.info()"
   ]
  },
  {
   "cell_type": "code",
   "execution_count": 62,
   "id": "42d34f22",
   "metadata": {},
   "outputs": [],
   "source": [
    "data['Quantity Ordered'] = pd.to_numeric(data['Quantity Ordered'])"
   ]
  },
  {
   "cell_type": "code",
   "execution_count": 63,
   "id": "262e6820",
   "metadata": {},
   "outputs": [
    {
     "name": "stdout",
     "output_type": "stream",
     "text": [
      "<class 'pandas.core.frame.DataFrame'>\n",
      "Int64Index: 185950 entries, 0 to 186848\n",
      "Data columns (total 6 columns):\n",
      " #   Column            Non-Null Count   Dtype \n",
      "---  ------            --------------   ----- \n",
      " 0   Order ID          185950 non-null  int64 \n",
      " 1   Product           185950 non-null  object\n",
      " 2   Quantity Ordered  185950 non-null  int64 \n",
      " 3   Price Each        185950 non-null  object\n",
      " 4   Order Date        185950 non-null  object\n",
      " 5   Purchase Address  185950 non-null  object\n",
      "dtypes: int64(2), object(4)\n",
      "memory usage: 14.0+ MB\n"
     ]
    }
   ],
   "source": [
    "data.info()"
   ]
  },
  {
   "cell_type": "code",
   "execution_count": 64,
   "id": "7ddde987",
   "metadata": {},
   "outputs": [],
   "source": [
    "data['Order Date'] = pd.to_datetime(data['Order Date'])"
   ]
  },
  {
   "cell_type": "code",
   "execution_count": 65,
   "id": "43aef4dd",
   "metadata": {},
   "outputs": [
    {
     "name": "stdout",
     "output_type": "stream",
     "text": [
      "<class 'pandas.core.frame.DataFrame'>\n",
      "Int64Index: 185950 entries, 0 to 186848\n",
      "Data columns (total 6 columns):\n",
      " #   Column            Non-Null Count   Dtype         \n",
      "---  ------            --------------   -----         \n",
      " 0   Order ID          185950 non-null  int64         \n",
      " 1   Product           185950 non-null  object        \n",
      " 2   Quantity Ordered  185950 non-null  int64         \n",
      " 3   Price Each        185950 non-null  object        \n",
      " 4   Order Date        185950 non-null  datetime64[ns]\n",
      " 5   Purchase Address  185950 non-null  object        \n",
      "dtypes: datetime64[ns](1), int64(2), object(3)\n",
      "memory usage: 14.0+ MB\n"
     ]
    }
   ],
   "source": [
    "data.info()"
   ]
  },
  {
   "cell_type": "code",
   "execution_count": 66,
   "id": "4ed22fd1",
   "metadata": {},
   "outputs": [],
   "source": [
    "data.to_excel(\"Data Product.xlsx\", index = False)"
   ]
  },
  {
   "cell_type": "code",
   "execution_count": null,
   "id": "5417e8e7",
   "metadata": {},
   "outputs": [],
   "source": []
  }
 ],
 "metadata": {
  "kernelspec": {
   "display_name": "Python 3 (ipykernel)",
   "language": "python",
   "name": "python3"
  },
  "language_info": {
   "codemirror_mode": {
    "name": "ipython",
    "version": 3
   },
   "file_extension": ".py",
   "mimetype": "text/x-python",
   "name": "python",
   "nbconvert_exporter": "python",
   "pygments_lexer": "ipython3",
   "version": "3.9.7"
  }
 },
 "nbformat": 4,
 "nbformat_minor": 5
}
